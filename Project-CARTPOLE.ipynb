{
 "cells": [
  {
   "cell_type": "code",
   "execution_count": 1,
   "metadata": {},
   "outputs": [
    {
     "data": {
      "text/plain": [
       "'\\nShoutout to Differnt youtube tutorials, various forums which helped during whole implementation purposes\\n'"
      ]
     },
     "execution_count": 1,
     "metadata": {},
     "output_type": "execute_result"
    }
   ],
   "source": [
    "\"\"\"\n",
    "Topic Name: Reinforcement Learning in Cart-pole Game\n",
    "    \n",
    "\"\"\"\n",
    "\n",
    "\"\"\"\n",
    "This Python notebook is being developed in accordance to the proposed topic of\n",
    "Reinforcement Learning, and to demonstrate the algorithm along with it's working code\n",
    "\"\"\"\n",
    "\n",
    "\"\"\"\n",
    "Reason To Select This Project:\n",
    "\n",
    "    You might have came across the automatic landing spacecrafts of Famous \"SpaceX\",\n",
    "    Founded by Elon musk, which had idea of developing solution of reusing spacecraft\n",
    "    (which generally gets destroyed on manual manuever) by using Advance Machine Learning\n",
    "    Technologies and Computer vision Techniques, to help in slef landing of spacecraft.\n",
    "    \n",
    "    Although the level of details, parameters and problems were varied and are out of scope\n",
    "    for the current level of project, we have tried to replicate the situation by using some\n",
    "    pre-existing State of the art tools, which would give us a insight in form of big picture\n",
    "    of spectacular problem.\n",
    "    \n",
    "    Along with the fact that Reinforcement Learning (field of studying and developing interaction \n",
    "    of machine with environment along with certain parameters/policy/rules, helps in learning and \n",
    "    delivering results in maximum possible efficient and automated way) is currently being field of \n",
    "    interest for many aspiring or experienced Scientist, is being used in the project to implement \n",
    "    the solution for the problem \n",
    "\"\"\"\n",
    "\n",
    "\"\"\"\n",
    "Shoutout to Differnt youtube tutorials, various forums which helped during whole implementation purposes\n",
    "\"\"\""
   ]
  },
  {
   "cell_type": "code",
   "execution_count": 1,
   "metadata": {},
   "outputs": [
    {
     "name": "stderr",
     "output_type": "stream",
     "text": [
      "/home/apoorve/.local/lib/python3.6/site-packages/tensorflow/python/framework/dtypes.py:516: FutureWarning: Passing (type, 1) or '1type' as a synonym of type is deprecated; in a future version of numpy, it will be understood as (type, (1,)) / '(1,)type'.\n",
      "  _np_qint8 = np.dtype([(\"qint8\", np.int8, 1)])\n",
      "/home/apoorve/.local/lib/python3.6/site-packages/tensorflow/python/framework/dtypes.py:517: FutureWarning: Passing (type, 1) or '1type' as a synonym of type is deprecated; in a future version of numpy, it will be understood as (type, (1,)) / '(1,)type'.\n",
      "  _np_quint8 = np.dtype([(\"quint8\", np.uint8, 1)])\n",
      "/home/apoorve/.local/lib/python3.6/site-packages/tensorflow/python/framework/dtypes.py:518: FutureWarning: Passing (type, 1) or '1type' as a synonym of type is deprecated; in a future version of numpy, it will be understood as (type, (1,)) / '(1,)type'.\n",
      "  _np_qint16 = np.dtype([(\"qint16\", np.int16, 1)])\n",
      "/home/apoorve/.local/lib/python3.6/site-packages/tensorflow/python/framework/dtypes.py:519: FutureWarning: Passing (type, 1) or '1type' as a synonym of type is deprecated; in a future version of numpy, it will be understood as (type, (1,)) / '(1,)type'.\n",
      "  _np_quint16 = np.dtype([(\"quint16\", np.uint16, 1)])\n",
      "/home/apoorve/.local/lib/python3.6/site-packages/tensorflow/python/framework/dtypes.py:520: FutureWarning: Passing (type, 1) or '1type' as a synonym of type is deprecated; in a future version of numpy, it will be understood as (type, (1,)) / '(1,)type'.\n",
      "  _np_qint32 = np.dtype([(\"qint32\", np.int32, 1)])\n",
      "/home/apoorve/.local/lib/python3.6/site-packages/tensorflow/python/framework/dtypes.py:525: FutureWarning: Passing (type, 1) or '1type' as a synonym of type is deprecated; in a future version of numpy, it will be understood as (type, (1,)) / '(1,)type'.\n",
      "  np_resource = np.dtype([(\"resource\", np.ubyte, 1)])\n"
     ]
    },
    {
     "name": "stdout",
     "output_type": "stream",
     "text": [
      "WARNING:tensorflow:From /home/apoorve/.local/lib/python3.6/site-packages/tensorflow/python/compat/v2_compat.py:61: disable_resource_variables (from tensorflow.python.ops.variable_scope) is deprecated and will be removed in a future version.\n",
      "Instructions for updating:\n",
      "non-resource variables are not supported in the long term\n"
     ]
    },
    {
     "name": "stderr",
     "output_type": "stream",
     "text": [
      "/home/apoorve/.local/lib/python3.6/site-packages/tensorboard/compat/tensorflow_stub/dtypes.py:541: FutureWarning: Passing (type, 1) or '1type' as a synonym of type is deprecated; in a future version of numpy, it will be understood as (type, (1,)) / '(1,)type'.\n",
      "  _np_qint8 = np.dtype([(\"qint8\", np.int8, 1)])\n",
      "/home/apoorve/.local/lib/python3.6/site-packages/tensorboard/compat/tensorflow_stub/dtypes.py:542: FutureWarning: Passing (type, 1) or '1type' as a synonym of type is deprecated; in a future version of numpy, it will be understood as (type, (1,)) / '(1,)type'.\n",
      "  _np_quint8 = np.dtype([(\"quint8\", np.uint8, 1)])\n",
      "/home/apoorve/.local/lib/python3.6/site-packages/tensorboard/compat/tensorflow_stub/dtypes.py:543: FutureWarning: Passing (type, 1) or '1type' as a synonym of type is deprecated; in a future version of numpy, it will be understood as (type, (1,)) / '(1,)type'.\n",
      "  _np_qint16 = np.dtype([(\"qint16\", np.int16, 1)])\n",
      "/home/apoorve/.local/lib/python3.6/site-packages/tensorboard/compat/tensorflow_stub/dtypes.py:544: FutureWarning: Passing (type, 1) or '1type' as a synonym of type is deprecated; in a future version of numpy, it will be understood as (type, (1,)) / '(1,)type'.\n",
      "  _np_quint16 = np.dtype([(\"quint16\", np.uint16, 1)])\n",
      "/home/apoorve/.local/lib/python3.6/site-packages/tensorboard/compat/tensorflow_stub/dtypes.py:545: FutureWarning: Passing (type, 1) or '1type' as a synonym of type is deprecated; in a future version of numpy, it will be understood as (type, (1,)) / '(1,)type'.\n",
      "  _np_qint32 = np.dtype([(\"qint32\", np.int32, 1)])\n",
      "/home/apoorve/.local/lib/python3.6/site-packages/tensorboard/compat/tensorflow_stub/dtypes.py:550: FutureWarning: Passing (type, 1) or '1type' as a synonym of type is deprecated; in a future version of numpy, it will be understood as (type, (1,)) / '(1,)type'.\n",
      "  np_resource = np.dtype([(\"resource\", np.ubyte, 1)])\n"
     ]
    },
    {
     "data": {
      "text/plain": [
       "'\\nNote : \\n    Below are warnings about the methods/functions in packages which might/will change/depreceates \\n    in upcoming official newer version\\n'"
      ]
     },
     "execution_count": 1,
     "metadata": {},
     "output_type": "execute_result"
    }
   ],
   "source": [
    "\"\"\"\n",
    "This Cell contains Imports of various packages of python which we will be using during implementation:\n",
    "\n",
    "1) gym : for using predefined environment for deploying and rendering of Reinforcement learning Algorithms\n",
    "\n",
    "2) Tensorflow, tflearn : for implementation of Neural Networks and using them for training the machine\n",
    "\n",
    "3) matplotlib, numpy, seaborn, time : Various computation and data visualisation package.\n",
    "\"\"\"\n",
    "import gym\n",
    "import time\n",
    "import tensorflow as tf\n",
    "import tflearn\n",
    "import numpy as np\n",
    "import matplotlib\n",
    "import seaborn as sns\n",
    "%matplotlib inline\n",
    "\n",
    "\"\"\"\n",
    "Note : \n",
    "    Below are warnings about the methods/functions in packages which might/will change/depreceates \n",
    "    in upcoming official newer version\n",
    "\"\"\""
   ]
  },
  {
   "cell_type": "code",
   "execution_count": 2,
   "metadata": {},
   "outputs": [],
   "source": [
    "\"\"\"\n",
    "Here now initialising the evironment i.e. Cart-pole Environment\n",
    "in \"env\" variable\n",
    "\"\"\"\n",
    "env = gym.make(\"CartPole-v0\")"
   ]
  },
  {
   "cell_type": "code",
   "execution_count": 3,
   "metadata": {},
   "outputs": [
    {
     "name": "stdout",
     "output_type": "stream",
     "text": [
      "Parameter of the environment:  [0.01620511 0.0142888  0.02357856 0.03831228]\n"
     ]
    },
    {
     "data": {
      "text/plain": [
       "'\\nThese 4 values represent the cart position, cart velocity, pole angle, and the velocity of the tip of the pole.\\n'"
      ]
     },
     "execution_count": 3,
     "metadata": {},
     "output_type": "execute_result"
    }
   ],
   "source": [
    "\"\"\"\n",
    "To Test whether our environment is being initiallised or not,\n",
    "we will try to check it, by running and testing out on it\n",
    "\"\"\"\n",
    "\n",
    "env_temp = gym.make(\"CartPole-v0\")\n",
    "obs = env_temp.reset()\n",
    "print(\"Parameter of the environment: \",obs)\n",
    "\n",
    "\"\"\"\n",
    "These 4 values represent the cart position, cart velocity, pole angle, and the velocity of the tip of the pole.\n",
    "\"\"\""
   ]
  },
  {
   "cell_type": "code",
   "execution_count": 4,
   "metadata": {},
   "outputs": [],
   "source": [
    "\"\"\"\n",
    "Sample Static Environment\n",
    "\"\"\"\n",
    "obs = env_temp.reset()\n",
    "env_temp.render() # will render the environment in humanly visible format\n",
    "time.sleep(7)     # will wait till 7 Seconds\n",
    "env_temp.close()  # will close the rendered environment"
   ]
  },
  {
   "cell_type": "code",
   "execution_count": 21,
   "metadata": {},
   "outputs": [
    {
     "name": "stdout",
     "output_type": "stream",
     "text": [
      "when step(0) is supplied for action, the resultant change in parameters.\n",
      "\n",
      "Parameter Observed: [ 0.03050329 -0.2270382  -0.03631862  0.27727727] 1.0 False\n",
      "Parameter Observed: [ 0.02596253 -0.4216237  -0.03077307  0.55828771] 1.0 False\n",
      "Parameter Observed: [ 0.01753005 -0.61630047 -0.01960732  0.84111876] 1.0 False\n",
      "Parameter Observed: [ 0.00520404 -0.81114935 -0.00278494  1.12757171] 1.0 False\n",
      "Parameter Observed: [-0.01101894 -1.0062347   0.01976649  1.41937984] 1.0 False\n",
      "Parameter Observed: [-0.03114364 -1.20159563  0.04815409  1.71817495] 1.0 False\n",
      "Parameter Observed: [-0.05517555 -1.39723531  0.08251759  2.02544613] 1.0 False\n",
      "Parameter Observed: [-0.08312026 -1.59310806  0.12302651  2.34248817] 1.0 False\n",
      "Parameter Observed: [-0.11498242 -1.78910372  0.16987627  2.67033822] 1.0 False\n",
      "Parameter Observed: [-0.15076449 -1.98502948  0.22328304  3.0097003 ] 1.0 True\n",
      "count: 0\n",
      "Parameter Observed: [-0.19046508 -2.18058977  0.28347704  3.36085988] 0.0 True\n",
      "count: 1\n",
      "Parameter Observed: [-0.23407688 -2.37536574  0.35069424  3.7235937 ] 0.0 True\n",
      "count: 2\n",
      "Parameter Observed: [-0.28158419 -2.56879713  0.42516612  4.09708449] 0.0 True\n",
      "count: 3\n",
      "Parameter Observed: [-0.33296013 -2.76017059  0.50710781  4.47985458] 0.0 True\n",
      "count: 4\n",
      "Parameter Observed: [-0.38816355 -2.94861989  0.5967049   4.8697362 ] 0.0 True\n",
      "count: 5\n",
      "Parameter Observed: [-0.44713594 -3.1331442   0.69409962  5.2638961 ] 0.0 True\n",
      "count: 6\n",
      "Parameter Observed: [-0.50979883 -3.31265019  0.79937754  5.65892656] 0.0 True\n",
      "count: 7\n",
      "Parameter Observed: [-0.57605183 -3.48602154  0.91255607  6.05100127] 0.0 True\n",
      "count: 8\n",
      "Parameter Observed: [-0.64577226 -3.65221536  1.0335761   6.43607338] 0.0 True\n",
      "count: 9\n",
      "\n",
      "When step(0) is supplied for action, the resultant change in parameters.\n",
      "\n",
      "Parameter Observed: [ 0.01638224  0.16475619  0.02056938 -0.33099916] 1.0 False\n",
      "Parameter Observed: [ 0.01967737  0.35957939  0.01394939 -0.61712518] 1.0 False\n",
      "Parameter Observed: [ 0.02686896  0.55450372  0.00160689 -0.90538224] 1.0 False\n",
      "Parameter Observed: [ 0.03795903  0.74960388 -0.01650076 -1.19755967] 1.0 False\n",
      "Parameter Observed: [ 0.05295111  0.94493545 -0.04045195 -1.49536815] 1.0 False\n",
      "Parameter Observed: [ 0.07184982  1.14052528 -0.07035931 -1.80040251] 1.0 False\n",
      "Parameter Observed: [ 0.09466032  1.33635982 -0.10636736 -2.11409609] 1.0 False\n",
      "Parameter Observed: [ 0.12138752  1.53237117 -0.14864928 -2.43766449] 1.0 False\n",
      "Parameter Observed: [ 0.15203494  1.72842046 -0.19740257 -2.77203751] 1.0 False\n",
      "Parameter Observed: [ 0.18660335  1.92427895 -0.25284332 -3.11777986] 1.0 True\n",
      "count: 0\n",
      "Parameter Observed: [ 0.22508893  2.1196077  -0.31519892 -3.4750037 ] 0.0 True\n",
      "count: 1\n",
      "Parameter Observed: [ 0.26748108  2.31393782 -0.384699   -3.84327993] 0.0 True\n",
      "count: 2\n",
      "Parameter Observed: [ 0.31375984  2.50665454 -0.46156459 -4.22155929] 0.0 True\n",
      "count: 3\n",
      "Parameter Observed: [ 0.36389293  2.69698964 -0.54599578 -4.60811879] 0.0 True\n",
      "count: 4\n",
      "Parameter Observed: [ 0.41783272  2.88402809 -0.63815816 -5.00055156] 0.0 True\n",
      "count: 5\n",
      "Parameter Observed: [ 0.47551329  3.0667349  -0.73816919 -5.395816  ] 0.0 True\n",
      "count: 6\n",
      "Parameter Observed: [ 0.53684798  3.24400723 -0.84608551 -5.79035182] 0.0 True\n",
      "count: 7\n",
      "Parameter Observed: [ 0.60172813  3.41475398 -0.96189254 -6.18025391] 0.0 True\n",
      "count: 8\n",
      "Parameter Observed: [ 0.67002321  3.57800071 -1.08549762 -6.56147291] 0.0 True\n",
      "count: 9\n"
     ]
    }
   ],
   "source": [
    "\"\"\"\n",
    "Sample Dynamic Environment\n",
    "\"\"\"\n",
    "\n",
    "\"\"\"\n",
    "Here we try to see what are the actions we can do in the environment and how it changes the environment.\n",
    "\n",
    "Here we use step(0) and step(1) to move the cartpole left and right, by applying -1 and +1 unit force respectively.\n",
    "\n",
    "\"\"\"\n",
    "\n",
    "##################################################################################################################\n",
    "print(\"when step(0) is supplied for action, the resultant change in parameters.\\n\")\n",
    "count = 0                      # Counter variable to store the change in the state of cartpole\n",
    "obs = env_temp.reset()         # Reseting the environment before rendering the environment\n",
    "while count <= 9:\n",
    "    for i in range(200):\n",
    "        time.sleep(1)\n",
    "        env_temp.render()\n",
    "        obs, r, d, _ = env_temp.step(0) \n",
    "        \"\"\"\n",
    "        Here the Parameters:\n",
    "        1) obs : These 4 values represent the cart position, cart velocity, pole angle, \n",
    "            and the velocity of the tip of the pole.\n",
    "        2) r : state, it's a positive number if it is above and negative if it falls.\n",
    "        3) d : it briefs whether we lost the game, True if it falls and False if it is still up.\n",
    "        \n",
    "        We keep the cartpole from falling by applying the continuous force according to the situation demands\n",
    "        \"\"\"\n",
    "        print(\"Parameter Observed:\",obs,r,d)\n",
    "        if d == True:\n",
    "            print(\"count:\",count)\n",
    "            count += 1\n",
    "            break\n",
    "env_temp.close()\n",
    "\n",
    "##################################################################################################################\n",
    "\n",
    "print(\"\\nWhen step(0) is supplied for action, the resultant change in parameters.\\n\")\n",
    "count = 0\n",
    "obs = env_temp.reset()\n",
    "while count <= 9:\n",
    "    for i in range(200):\n",
    "        time.sleep(1)\n",
    "        env_temp.render()\n",
    "        obs, r, d, _ = env_temp.step(1)\n",
    "        print(\"Parameter Observed:\",obs,r,d)\n",
    "        \"\"\"\n",
    "        Here the Parameters:\n",
    "        1) obs : These 4 values represent the cart position, cart velocity, pole angle, \n",
    "            and the velocity of the tip of the pole.\n",
    "        2) r : state, it's a positive number if it is above and negative if it falls.\n",
    "        3) d : it briefs whether we lost the game, True if it falls and False if it is still up\n",
    "        \n",
    "        We keep the cartpole from falling by applying the continuous force according to the situation demands\n",
    "        \"\"\"\n",
    "        if d == True:\n",
    "            print(\"count:\",count)\n",
    "            count += 1\n",
    "            break\n",
    "env_temp.close()"
   ]
  },
  {
   "cell_type": "code",
   "execution_count": 22,
   "metadata": {},
   "outputs": [
    {
     "name": "stdout",
     "output_type": "stream",
     "text": [
      "WARNING:tensorflow:From /home/apoorve/.local/lib/python3.6/site-packages/tflearn/initializations.py:165: calling TruncatedNormal.__init__ (from tensorflow.python.ops.init_ops) with dtype is deprecated and will be removed in a future version.\n",
      "Instructions for updating:\n",
      "Call initializer instance with the dtype argument instead of passing it to the constructor\n"
     ]
    }
   ],
   "source": [
    "\"\"\"\n",
    "The Main task is to develop the agent/model which will take decision on it's own to deploy\n",
    "actions in the environment\n",
    "\n",
    "To that we will using Neural Network, with 3 dense layer (i.e. 3 inbetween layers) with \n",
    "Rectified linear unit function for each of them, and finally we have a output layer which\n",
    "give us probability for each of the possible action to be taken.\n",
    "\n",
    "\"\"\"\n",
    "observation = tflearn.input_data(shape=[None, 4]) # for storing the observation parameters \n",
    "net = tflearn.fully_connected(observation, 256, activation=\"relu\") # Dense Layer 1\n",
    "net = tflearn.fully_connected(net, 256, activation=\"relu\") # Dense Layer 2\n",
    "net = tflearn.fully_connected(net, 256, activation=\"relu\") # Dense Layer 3\n",
    "out = tflearn.fully_connected(net, 2, activation=\"softmax\") # final Output Layer\n",
    "\n",
    "reward_holder = tf.placeholder(tf.float32, [None]) # Variable storing reward i.e. state whether it falls or not\n",
    "action_holder = tf.placeholder(tf.int32, [None]) # Variable storing associated action for the respective state\n",
    "\n",
    "responsible_outputs = tf.gather(tf.reshape(out, [-1]), tf.range(0, tf.shape(out)[0] * tf.shape(out)[1], 2) + action_holder)\n",
    "# above is used to change the shape of accumulated outputs from different frames into single one\n",
    "\n",
    "\n",
    "loss = -tf.reduce_mean(tf.log(responsible_outputs) * reward_holder) # to specify the loss for the neural network\n",
    "optimizer = tf.train.AdamOptimizer() # function to be used to minimize the loss function across neural network\n",
    "update = optimizer.minimize(loss) # function to be used to update the loss."
   ]
  },
  {
   "cell_type": "code",
   "execution_count": 23,
   "metadata": {},
   "outputs": [
    {
     "name": "stdout",
     "output_type": "stream",
     "text": [
      "[9.455 4.465 3.44  6.   ]\n"
     ]
    }
   ],
   "source": [
    "gamma = 0.99 \n",
    "\"\"\"\n",
    "It is constant which we use to provide the amount of importance to the rewards which\n",
    "we get for each supplied actions\n",
    "\n",
    "The more it is nearer to 1 (such as 0.90-0.99), more weightage is assigned to the reward\n",
    "while more nearer to 0 (such as 0.01-0.10), very less weightage is assigned to the reward\n",
    "\"\"\"\n",
    "\n",
    "\n",
    "def discount_reward(rewards):\n",
    "    running_reward = 0\n",
    "    result = np.zeros_like(rewards)\n",
    "    for i in reversed(range(len(rewards))):\n",
    "        result[i] = rewards[i] + gamma * running_reward\n",
    "        running_reward += rewards[i]\n",
    "    return result\n",
    "\n",
    "# Example\n",
    "print(discount_reward([5.0, 1.0, -2.5, 6.0]))"
   ]
  },
  {
   "cell_type": "code",
   "execution_count": 38,
   "metadata": {},
   "outputs": [
    {
     "name": "stderr",
     "output_type": "stream",
     "text": [
      "/home/apoorve/.local/lib/python3.6/site-packages/ipykernel_launcher.py:31: VisibleDeprecationWarning: Creating an ndarray from ragged nested sequences (which is a list-or-tuple of lists-or-tuples-or ndarrays with different lengths or shapes) is deprecated. If you meant to do this, you must specify 'dtype=object' when creating the ndarray\n"
     ]
    },
    {
     "name": "stdout",
     "output_type": "stream",
     "text": [
      "For after 100 th episode, following weighted reward:  21.59\n",
      "For after 200 th episode, following weighted reward:  26.22\n",
      "For after 300 th episode, following weighted reward:  41.74\n",
      "For after 400 th episode, following weighted reward:  82.47\n",
      "For after 500 th episode, following weighted reward:  180.91\n",
      "For after 600 th episode, following weighted reward:  200.0\n",
      "WARNING:tensorflow:Issue encountered when serializing data_preprocessing.\n",
      "Type is unsupported, or the types of the items don't match field type in CollectionDef. Note this is a warning and probably safe to ignore.\n",
      "'NoneType' object has no attribute 'name'\n",
      "WARNING:tensorflow:Issue encountered when serializing data_augmentation.\n",
      "Type is unsupported, or the types of the items don't match field type in CollectionDef. Note this is a warning and probably safe to ignore.\n",
      "'NoneType' object has no attribute 'name'\n"
     ]
    }
   ],
   "source": [
    "num_episodes = 1500 # No. of sessions, in which for each session we will try to acheive max possible reward\n",
    "max_time = 200 # Max times of frames the cart-pole is kept from falling, to result in victory in game environment\n",
    "all_rewards = [] #to keep track of rewards\n",
    "saver = tf.train.Saver() # To save our Trained model\n",
    "train_data = [] # To retrain the saved data\n",
    "Whole_sess_hist = [] # Here we will be storing whole history of trained parameters\n",
    "\n",
    "\n",
    "with tf.Session() as sess:\n",
    "    sess.run(tf.global_variables_initializer())\n",
    "    for i in range(num_episodes):\n",
    "        obs = env.reset()\n",
    "        episode_reward = 0 # Counter for each episode's final obtained reward\n",
    "        ep_history = [] # For storing each individual episode history\n",
    "        for j in range(max_time):\n",
    "            \"\"\"\n",
    "            Choose an random action and then evaluating the output probabilities, reason why we are picking\n",
    "            random action is due to the fact that we don't our agent to be biased towards single action but\n",
    "            should also know the consequences of the both the action for random situation\n",
    "            \"\"\"\n",
    "            a_one_hot = sess.run(out, feed_dict={observation: [obs]}).reshape(2) \n",
    "            action = np.random.choice(a_one_hot, p=a_one_hot) # Picking random action\n",
    "            action = np.argmax(a_one_hot == action)\n",
    "            obs1, r, d, _ = env.step(action) # Getting changed parameter for resultant random action\n",
    "            ep_history.append([obs, r, action]) # Storing those parameter for running episode\n",
    "#             Whole_sess_hist.append([obs,r,action])\n",
    "            obs = obs1 # Overwriting initial observation with new one\n",
    "            episode_reward += r\n",
    "            if d == True:\n",
    "                all_rewards.append(episode_reward)\n",
    "                ep_history = np.array(ep_history)\n",
    "                ep_history[:, 1] = discount_reward(ep_history[:, 1])\n",
    "                train_data.extend(ep_history)\n",
    "                if i % 10 == 0 and i != 0:\n",
    "                    \"\"\"\n",
    "                    For every 10th episode, we will training the model again, by evaluating on saved\n",
    "                    previous trained data\n",
    "                    \"\"\"\n",
    "                    train_data = np.array(train_data)\n",
    "                    sess.run(update, feed_dict={observation: np.vstack(train_data[:, 0]),\n",
    "                                                    reward_holder: train_data[:, 1],\n",
    "                                                    action_holder: train_data[:, 2]})\n",
    "                    \"\"\"\n",
    "                    Above part is to update the weights associated with each episode to\n",
    "                    total data\n",
    "                    \"\"\"\n",
    "                    train_data = []\n",
    "                break\n",
    "                \n",
    "        if i % 100 == 0 and i != 0:\n",
    "            \"\"\"\n",
    "            For every 100th session of updating, we will be printing the average weightage reward\n",
    "            \"\"\"\n",
    "            print(\"For after\",str(i),\"th episode, following weighted reward: \",np.mean(all_rewards[-100:]))\n",
    "            Whole_sess_hist.append([obs[0],obs[0],obs[0],obs[0],r,action])\n",
    "            if np.mean(all_rewards[-100:]) == 200:\n",
    "                break\n",
    "            \n",
    "    saver.save(sess, \"/tmp/model.ckpt\") #For Saving the weights of the trained model"
   ]
  },
  {
   "cell_type": "code",
   "execution_count": 54,
   "metadata": {},
   "outputs": [
    {
     "data": {
      "text/plain": [
       "<AxesSubplot:>"
      ]
     },
     "execution_count": 54,
     "metadata": {},
     "output_type": "execute_result"
    },
    {
     "data": {
      "image/png": "[encoded data removed]",
      "text/plain": [
       "<Figure size 432x288 with 1 Axes>"
      ]
     },
     "metadata": {
      "needs_background": "light"
     },
     "output_type": "display_data"
    }
   ],
   "source": [
    "# Visualisation of the Average Reward during after training in each episode\n",
    "\n",
    "avg_reward = [np.mean(all_rewards[i-10:i+10]) for i in range(10, len(all_rewards))]\n",
    "# print(avg_reward)\n",
    "sns.lineplot(data=avg_reward[::10], markers=True, dashes=False)"
   ]
  },
  {
   "cell_type": "code",
   "execution_count": 43,
   "metadata": {},
   "outputs": [],
   "source": [
    "# print(Whole_sess_hist)\n",
    "# sns.lineplot(data=Whole_sess_hist)"
   ]
  },
  {
   "cell_type": "code",
   "execution_count": 55,
   "metadata": {},
   "outputs": [
    {
     "name": "stdout",
     "output_type": "stream",
     "text": [
      "INFO:tensorflow:Restoring parameters from /tmp/model.ckpt\n",
      "Final Weighted Reward attained after 0th episode:  200.0\n",
      "Final Weighted Reward attained after 1th episode:  200.0\n",
      "Final Weighted Reward attained after 2th episode:  200.0\n",
      "Final Weighted Reward attained after 3th episode:  200.0\n",
      "Final Weighted Reward attained after 4th episode:  200.0\n",
      "Final Weighted Reward attained after 5th episode:  200.0\n",
      "Final Weighted Reward attained after 6th episode:  200.0\n",
      "Final Weighted Reward attained after 7th episode:  200.0\n",
      "Final Weighted Reward attained after 8th episode:  200.0\n",
      "Final Weighted Reward attained after 9th episode:  200.0\n"
     ]
    }
   ],
   "source": [
    "\"\"\"\n",
    "Here now, since our model is trained, we will use the trained weights\n",
    "for testing and then will output the final reward for each episode which \n",
    "is in total 200 frames long.\n",
    "\"\"\"\n",
    "\n",
    "max_time = 200 # For how much frame the cart-pole being need to kept stable to have Victory\n",
    "saver = tf.train.Saver()\n",
    "    \n",
    "with tf.Session() as sess:\n",
    "    \n",
    "    saver.restore(sess, \"/tmp/model.ckpt\") # Restoring the Trained Model Weights\n",
    "    #Show the results\n",
    "    for i in range(10):\n",
    "        \n",
    "        obs = env.reset()\n",
    "        episode_reward = 0\n",
    "        for j in range(max_time):\n",
    "            \n",
    "            #Choose an random action for testing\n",
    "            a_one_hot = sess.run(out, feed_dict={observation: [obs]}).reshape(2)\n",
    "            action = np.random.choice(a_one_hot, p=a_one_hot)\n",
    "            action = np.argmax(a_one_hot == action)\n",
    "            env.render()\n",
    "            time.sleep(0.005)\n",
    "            obs, r, d, _ = env.step(action)\n",
    "            episode_reward += r\n",
    "            if d == True:\n",
    "                break\n",
    "        print(\"Final Weighted Reward attained after \"+str(i)+\"th episode: \",episode_reward) \n",
    "        \"\"\"\n",
    "        Giving final reward for each output, after getting actions\n",
    "        \"\"\"\n",
    "env.close()"
   ]
  }
 ],
 "metadata": {
  "kernelspec": {
   "display_name": "Python 3",
   "language": "python",
   "name": "python3"
  },
  "language_info": {
   "codemirror_mode": {
    "name": "ipython",
    "version": 3
   },
   "file_extension": ".py",
   "mimetype": "text/x-python",
   "name": "python",
   "nbconvert_exporter": "python",
   "pygments_lexer": "ipython3",
   "version": "3.6.9"
  }
 },
 "nbformat": 4,
 "nbformat_minor": 4
}